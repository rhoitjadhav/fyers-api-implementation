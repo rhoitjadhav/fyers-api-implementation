{
 "cells": [
  {
   "cell_type": "code",
   "execution_count": 2,
   "id": "f0804123",
   "metadata": {},
   "outputs": [],
   "source": [
    "import json\n",
    "import pandas as pd\n",
    "from db.redis_database import RedisDatabase"
   ]
  },
  {
   "cell_type": "code",
   "execution_count": 3,
   "id": "4fbd4676",
   "metadata": {},
   "outputs": [],
   "source": [
    "df = pd.read_csv(\"symbols_feed_data/naukri.csv\")\n",
    "df.set_index(\"timecode\", inplace=True)\n",
    "df.index = pd.to_datetime(df.index)\n",
    "df.sort_values(by=\"timecode\", inplace=True)"
   ]
  },
  {
   "cell_type": "code",
   "execution_count": 4,
   "id": "e382d03c",
   "metadata": {},
   "outputs": [],
   "source": [
    "ohlc = df[\"price\"].resample(\"15min\").ohlc()"
   ]
  },
  {
   "cell_type": "code",
   "execution_count": 5,
   "id": "0cdeecd2",
   "metadata": {},
   "outputs": [
    {
     "data": {
      "text/plain": [
       "(7143.6, 7376.15)"
      ]
     },
     "execution_count": 5,
     "metadata": {},
     "output_type": "execute_result"
    }
   ],
   "source": [
    "price = df[\"price\"]\n",
    "first_candle = price['2021-10-19 09:15:00':'2021-10-19 09:29:59']\n",
    "low = first_candle.min()\n",
    "high = first_candle.max()\n",
    "\n",
    "low, high"
   ]
  }
 ],
 "metadata": {
  "kernelspec": {
   "display_name": "Python 3 (ipykernel)",
   "language": "python",
   "name": "python3"
  },
  "language_info": {
   "codemirror_mode": {
    "name": "ipython",
    "version": 3
   },
   "file_extension": ".py",
   "mimetype": "text/x-python",
   "name": "python",
   "nbconvert_exporter": "python",
   "pygments_lexer": "ipython3",
   "version": "3.8.10"
  }
 },
 "nbformat": 4,
 "nbformat_minor": 5
}
