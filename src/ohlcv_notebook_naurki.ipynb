{
 "cells": [
  {
   "cell_type": "code",
   "execution_count": 1,
   "id": "f0804123",
   "metadata": {},
   "outputs": [],
   "source": [
    "import json\n",
    "import pandas as pd \n",
    "from db.redis_database import RedisDatabase"
   ]
  },
  {
   "cell_type": "code",
   "execution_count": 40,
   "id": "4fbd4676",
   "metadata": {},
   "outputs": [],
   "source": [
    "df = pd.read_csv(\"naukri.csv\")\n",
    "df.set_index(\"timecode\", inplace=True)\n",
    "df.index = pd.to_datetime(df.index)\n",
    "df.sort_values(by=\"timecode\", inplace=True)\n",
    "\n"
   ]
  },
  {
   "cell_type": "code",
   "execution_count": 46,
   "id": "3b864344",
   "metadata": {},
   "outputs": [
    {
     "data": {
      "text/html": [
       "<div>\n",
       "<style scoped>\n",
       "    .dataframe tbody tr th:only-of-type {\n",
       "        vertical-align: middle;\n",
       "    }\n",
       "\n",
       "    .dataframe tbody tr th {\n",
       "        vertical-align: top;\n",
       "    }\n",
       "\n",
       "    .dataframe thead th {\n",
       "        text-align: right;\n",
       "    }\n",
       "</style>\n",
       "<table border=\"1\" class=\"dataframe\">\n",
       "  <thead>\n",
       "    <tr style=\"text-align: right;\">\n",
       "      <th></th>\n",
       "      <th>open</th>\n",
       "      <th>high</th>\n",
       "      <th>low</th>\n",
       "      <th>close</th>\n",
       "    </tr>\n",
       "    <tr>\n",
       "      <th>timecode</th>\n",
       "      <th></th>\n",
       "      <th></th>\n",
       "      <th></th>\n",
       "      <th></th>\n",
       "    </tr>\n",
       "  </thead>\n",
       "  <tbody>\n",
       "    <tr>\n",
       "      <th>2021-10-19</th>\n",
       "      <td>7048.0</td>\n",
       "      <td>7465.0</td>\n",
       "      <td>6629.85</td>\n",
       "      <td>6931.55</td>\n",
       "    </tr>\n",
       "  </tbody>\n",
       "</table>\n",
       "</div>"
      ],
      "text/plain": [
       "              open    high      low    close\n",
       "timecode                                    \n",
       "2021-10-19  7048.0  7465.0  6629.85  6931.55"
      ]
     },
     "execution_count": 46,
     "metadata": {},
     "output_type": "execute_result"
    }
   ],
   "source": [
    "df_9_15 = df[\"2021-10-19 09:00:00\":]\n",
    "df_9_15[\"price\"].resample(\"1D\").ohlc()"
   ]
  },
  {
   "cell_type": "code",
   "execution_count": 31,
   "id": "e382d03c",
   "metadata": {},
   "outputs": [],
   "source": [
    "ohlc = df[\"price\"].resample(\"1min\").ohlc()"
   ]
  },
  {
   "cell_type": "code",
   "execution_count": 9,
   "id": "bd178769",
   "metadata": {},
   "outputs": [],
   "source": [
    "ohlc[\"volume_diff\"] = (df[\"volume\"].resample(\"1min\").max()).diff()"
   ]
  },
  {
   "cell_type": "code",
   "execution_count": 24,
   "id": "e864d8fb",
   "metadata": {},
   "outputs": [
    {
     "data": {
      "text/html": [
       "<div>\n",
       "<style scoped>\n",
       "    .dataframe tbody tr th:only-of-type {\n",
       "        vertical-align: middle;\n",
       "    }\n",
       "\n",
       "    .dataframe tbody tr th {\n",
       "        vertical-align: top;\n",
       "    }\n",
       "\n",
       "    .dataframe thead th {\n",
       "        text-align: right;\n",
       "    }\n",
       "</style>\n",
       "<table border=\"1\" class=\"dataframe\">\n",
       "  <thead>\n",
       "    <tr style=\"text-align: right;\">\n",
       "      <th></th>\n",
       "      <th>open</th>\n",
       "      <th>high</th>\n",
       "      <th>low</th>\n",
       "      <th>close</th>\n",
       "    </tr>\n",
       "    <tr>\n",
       "      <th>timecode</th>\n",
       "      <th></th>\n",
       "      <th></th>\n",
       "      <th></th>\n",
       "      <th></th>\n",
       "    </tr>\n",
       "  </thead>\n",
       "  <tbody>\n",
       "    <tr>\n",
       "      <th>2021-10-19 09:15:00</th>\n",
       "      <td>2720.0</td>\n",
       "      <td>2721.75</td>\n",
       "      <td>2714.15</td>\n",
       "      <td>2714.6</td>\n",
       "    </tr>\n",
       "  </tbody>\n",
       "</table>\n",
       "</div>"
      ],
      "text/plain": [
       "                       open     high      low   close\n",
       "timecode                                             \n",
       "2021-10-19 09:15:00  2720.0  2721.75  2714.15  2714.6"
      ]
     },
     "execution_count": 24,
     "metadata": {},
     "output_type": "execute_result"
    }
   ],
   "source": [
    "df_9_15[\"price\"].resample(\"15min\").ohlc()"
   ]
  },
  {
   "cell_type": "code",
   "execution_count": 32,
   "id": "6b863d58",
   "metadata": {},
   "outputs": [
    {
     "data": {
      "text/plain": [
       "open     2720.00\n",
       "high     2721.75\n",
       "low      2714.15\n",
       "close    2715.25\n",
       "Name: 2021-10-19 09:15:00, dtype: float64"
      ]
     },
     "execution_count": 32,
     "metadata": {},
     "output_type": "execute_result"
    }
   ],
   "source": [
    "ohlc.loc['2021-10-19 09:15:00']"
   ]
  },
  {
   "cell_type": "code",
   "execution_count": 37,
   "id": "0cdeecd2",
   "metadata": {},
   "outputs": [
    {
     "data": {
      "text/html": [
       "<div>\n",
       "<style scoped>\n",
       "    .dataframe tbody tr th:only-of-type {\n",
       "        vertical-align: middle;\n",
       "    }\n",
       "\n",
       "    .dataframe tbody tr th {\n",
       "        vertical-align: top;\n",
       "    }\n",
       "\n",
       "    .dataframe thead th {\n",
       "        text-align: right;\n",
       "    }\n",
       "</style>\n",
       "<table border=\"1\" class=\"dataframe\">\n",
       "  <thead>\n",
       "    <tr style=\"text-align: right;\">\n",
       "      <th></th>\n",
       "      <th>open</th>\n",
       "      <th>high</th>\n",
       "      <th>low</th>\n",
       "      <th>close</th>\n",
       "    </tr>\n",
       "    <tr>\n",
       "      <th>timecode</th>\n",
       "      <th></th>\n",
       "      <th></th>\n",
       "      <th></th>\n",
       "      <th></th>\n",
       "    </tr>\n",
       "  </thead>\n",
       "  <tbody>\n",
       "    <tr>\n",
       "      <th>2021-10-19 09:25:00</th>\n",
       "      <td>2719.90</td>\n",
       "      <td>2724.50</td>\n",
       "      <td>2719.30</td>\n",
       "      <td>2724.50</td>\n",
       "    </tr>\n",
       "    <tr>\n",
       "      <th>2021-10-19 09:26:00</th>\n",
       "      <td>2725.00</td>\n",
       "      <td>2728.35</td>\n",
       "      <td>2724.80</td>\n",
       "      <td>2728.30</td>\n",
       "    </tr>\n",
       "    <tr>\n",
       "      <th>2021-10-19 09:27:00</th>\n",
       "      <td>2727.55</td>\n",
       "      <td>2728.30</td>\n",
       "      <td>2723.25</td>\n",
       "      <td>2724.30</td>\n",
       "    </tr>\n",
       "    <tr>\n",
       "      <th>2021-10-19 09:28:00</th>\n",
       "      <td>2724.25</td>\n",
       "      <td>2726.00</td>\n",
       "      <td>2723.20</td>\n",
       "      <td>2725.00</td>\n",
       "    </tr>\n",
       "    <tr>\n",
       "      <th>2021-10-19 09:29:00</th>\n",
       "      <td>2725.00</td>\n",
       "      <td>2725.45</td>\n",
       "      <td>2724.05</td>\n",
       "      <td>2724.15</td>\n",
       "    </tr>\n",
       "    <tr>\n",
       "      <th>...</th>\n",
       "      <td>...</td>\n",
       "      <td>...</td>\n",
       "      <td>...</td>\n",
       "      <td>...</td>\n",
       "    </tr>\n",
       "    <tr>\n",
       "      <th>2021-10-19 15:56:00</th>\n",
       "      <td>2731.85</td>\n",
       "      <td>2731.85</td>\n",
       "      <td>2731.85</td>\n",
       "      <td>2731.85</td>\n",
       "    </tr>\n",
       "    <tr>\n",
       "      <th>2021-10-19 15:57:00</th>\n",
       "      <td>2731.85</td>\n",
       "      <td>2731.85</td>\n",
       "      <td>2731.85</td>\n",
       "      <td>2731.85</td>\n",
       "    </tr>\n",
       "    <tr>\n",
       "      <th>2021-10-19 15:58:00</th>\n",
       "      <td>2731.85</td>\n",
       "      <td>2731.85</td>\n",
       "      <td>2731.85</td>\n",
       "      <td>2731.85</td>\n",
       "    </tr>\n",
       "    <tr>\n",
       "      <th>2021-10-19 15:59:00</th>\n",
       "      <td>2731.85</td>\n",
       "      <td>2731.85</td>\n",
       "      <td>2731.85</td>\n",
       "      <td>2731.85</td>\n",
       "    </tr>\n",
       "    <tr>\n",
       "      <th>2021-10-19 16:00:00</th>\n",
       "      <td>2731.85</td>\n",
       "      <td>2731.85</td>\n",
       "      <td>2731.85</td>\n",
       "      <td>2731.85</td>\n",
       "    </tr>\n",
       "  </tbody>\n",
       "</table>\n",
       "<p>396 rows × 4 columns</p>\n",
       "</div>"
      ],
      "text/plain": [
       "                        open     high      low    close\n",
       "timecode                                               \n",
       "2021-10-19 09:25:00  2719.90  2724.50  2719.30  2724.50\n",
       "2021-10-19 09:26:00  2725.00  2728.35  2724.80  2728.30\n",
       "2021-10-19 09:27:00  2727.55  2728.30  2723.25  2724.30\n",
       "2021-10-19 09:28:00  2724.25  2726.00  2723.20  2725.00\n",
       "2021-10-19 09:29:00  2725.00  2725.45  2724.05  2724.15\n",
       "...                      ...      ...      ...      ...\n",
       "2021-10-19 15:56:00  2731.85  2731.85  2731.85  2731.85\n",
       "2021-10-19 15:57:00  2731.85  2731.85  2731.85  2731.85\n",
       "2021-10-19 15:58:00  2731.85  2731.85  2731.85  2731.85\n",
       "2021-10-19 15:59:00  2731.85  2731.85  2731.85  2731.85\n",
       "2021-10-19 16:00:00  2731.85  2731.85  2731.85  2731.85\n",
       "\n",
       "[396 rows x 4 columns]"
      ]
     },
     "execution_count": 37,
     "metadata": {},
     "output_type": "execute_result"
    }
   ],
   "source": [
    "ohlc[\"2021-10-19 09:25:00\":]"
   ]
  }
 ],
 "metadata": {
  "kernelspec": {
   "display_name": "Python 3 (ipykernel)",
   "language": "python",
   "name": "python3"
  },
  "language_info": {
   "codemirror_mode": {
    "name": "ipython",
    "version": 3
   },
   "file_extension": ".py",
   "mimetype": "text/x-python",
   "name": "python",
   "nbconvert_exporter": "python",
   "pygments_lexer": "ipython3",
   "version": "3.8.10"
  }
 },
 "nbformat": 4,
 "nbformat_minor": 5
}
