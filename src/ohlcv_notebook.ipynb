{
 "cells": [
  {
   "cell_type": "code",
   "execution_count": 1,
   "id": "f0804123",
   "metadata": {},
   "outputs": [],
   "source": [
    "import json\n",
    "import pandas as pd\n",
    "from db.redis_database import RedisDatabase"
   ]
  },
  {
   "cell_type": "code",
   "execution_count": 6,
   "id": "4fbd4676",
   "metadata": {},
   "outputs": [],
   "source": [
    "r = RedisDatabase()\n",
    "timeseries_data = r.hgetall(\"NSE:BHEL-EQ\")\n",
    "\n",
    "columns = [\"timecode\", \"price\", \"volume\"]\n",
    "rows = []\n",
    "\n",
    "for timecode, price_vol in timeseries_data.items():\n",
    "    d = json.loads(price_vol)\n",
    "    price = d[\"price\"]\n",
    "    vol = d[\"volume\"]\n",
    "\n",
    "    rows.append([timecode, price, vol])\n",
    "\n",
    "df = pd.DataFrame(rows, columns=columns)\n",
    "df.set_index(\"timecode\", inplace=True)\n",
    "df.index = pd.to_datetime(df.index)\n",
    "df.sort_values(by=\"timecode\", inplace=True)"
   ]
  },
  {
   "cell_type": "code",
   "execution_count": 8,
   "id": "e382d03c",
   "metadata": {},
   "outputs": [],
   "source": [
    "ohlc = df[\"price\"].resample(\"15min\").ohlc()"
   ]
  },
  {
   "cell_type": "code",
   "execution_count": 49,
   "id": "bd178769",
   "metadata": {},
   "outputs": [],
   "source": [
    "ohlc[\"volume_diff\"] = (df[\"volume\"].resample(\"1min\").max()).diff()"
   ]
  },
  {
   "cell_type": "code",
   "execution_count": 16,
   "id": "e864d8fb",
   "metadata": {},
   "outputs": [
    {
     "data": {
      "text/plain": [
       "(open     71.55\n",
       " high     71.80\n",
       " low      71.55\n",
       " close    71.80\n",
       " Name: 2021-10-27 09:00:00, dtype: float64,\n",
       " open     71.80\n",
       " high     72.85\n",
       " low      71.40\n",
       " close    72.05\n",
       " Name: 2021-10-27 09:15:00, dtype: float64)"
      ]
     },
     "execution_count": 16,
     "metadata": {},
     "output_type": "execute_result"
    }
   ],
   "source": [
    "a = ohlc.loc[\"2021-10-27 09:00:00\"]\n",
    "b = ohlc.loc[\"2021-10-27 09:15:00\"]\n",
    "\n",
    "a, b"
   ]
  }
 ],
 "metadata": {
  "kernelspec": {
   "display_name": "Python 3 (ipykernel)",
   "language": "python",
   "name": "python3"
  },
  "language_info": {
   "codemirror_mode": {
    "name": "ipython",
    "version": 3
   },
   "file_extension": ".py",
   "mimetype": "text/x-python",
   "name": "python",
   "nbconvert_exporter": "python",
   "pygments_lexer": "ipython3",
   "version": "3.8.10"
  }
 },
 "nbformat": 4,
 "nbformat_minor": 5
}
