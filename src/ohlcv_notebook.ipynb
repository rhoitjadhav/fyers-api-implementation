{
 "cells": [
  {
   "cell_type": "code",
   "execution_count": 75,
   "id": "f0804123",
   "metadata": {},
   "outputs": [],
   "source": [
    "import json\n",
    "import pandas as pd \n",
    "from db.redis_database import RedisDatabase"
   ]
  },
  {
   "cell_type": "code",
   "execution_count": 32,
   "id": "4fbd4676",
   "metadata": {},
   "outputs": [],
   "source": [
    "timeseries_data = r.hgetall(\"MCX:CRUDEOIL21OCTFUT\")\n",
    "\n",
    "columns = [\"timecode\", \"price\", \"volume\"]\n",
    "rows = []\n",
    "\n",
    "for timecode, price_vol in timeseries_data.items():\n",
    "    d = json.loads(price_vol)\n",
    "    price = d[\"price\"]\n",
    "    vol = d[\"volume\"]\n",
    "\n",
    "    rows.append([timecode, price, vol])\n",
    "\n",
    "df = pd.DataFrame(rows, columns=columns)\n",
    "df.set_index(\"timecode\", inplace=True)\n",
    "df.index = pd.to_datetime(df.index)\n",
    "df.sort_values(by=\"timecode\", inplace=True)"
   ]
  },
  {
   "cell_type": "code",
   "execution_count": 47,
   "id": "e382d03c",
   "metadata": {},
   "outputs": [],
   "source": [
    "ohlc = df[\"price\"].resample(\"1min\").ohlc()"
   ]
  },
  {
   "cell_type": "code",
   "execution_count": 49,
   "id": "bd178769",
   "metadata": {},
   "outputs": [],
   "source": [
    "ohlc[\"volume_diff\"] = (df[\"volume\"].resample(\"1min\").max()).diff()"
   ]
  },
  {
   "cell_type": "code",
   "execution_count": 56,
   "id": "e864d8fb",
   "metadata": {
    "collapsed": true
   },
   "outputs": [
    {
     "data": {
      "text/html": [
       "<div>\n",
       "<style scoped>\n",
       "    .dataframe tbody tr th:only-of-type {\n",
       "        vertical-align: middle;\n",
       "    }\n",
       "\n",
       "    .dataframe tbody tr th {\n",
       "        vertical-align: top;\n",
       "    }\n",
       "\n",
       "    .dataframe thead th {\n",
       "        text-align: right;\n",
       "    }\n",
       "</style>\n",
       "<table border=\"1\" class=\"dataframe\">\n",
       "  <thead>\n",
       "    <tr style=\"text-align: right;\">\n",
       "      <th></th>\n",
       "      <th>open</th>\n",
       "      <th>high</th>\n",
       "      <th>low</th>\n",
       "      <th>close</th>\n",
       "      <th>volume_diff</th>\n",
       "    </tr>\n",
       "    <tr>\n",
       "      <th>timecode</th>\n",
       "      <th></th>\n",
       "      <th></th>\n",
       "      <th></th>\n",
       "      <th></th>\n",
       "      <th></th>\n",
       "    </tr>\n",
       "  </thead>\n",
       "  <tbody>\n",
       "    <tr>\n",
       "      <th>2021-10-15 17:08:00</th>\n",
       "      <td>6152.0</td>\n",
       "      <td>6154.0</td>\n",
       "      <td>6152.0</td>\n",
       "      <td>6153.0</td>\n",
       "      <td>NaN</td>\n",
       "    </tr>\n",
       "    <tr>\n",
       "      <th>2021-10-15 17:09:00</th>\n",
       "      <td>6153.0</td>\n",
       "      <td>6155.0</td>\n",
       "      <td>6152.0</td>\n",
       "      <td>6154.0</td>\n",
       "      <td>18.0</td>\n",
       "    </tr>\n",
       "    <tr>\n",
       "      <th>2021-10-15 17:10:00</th>\n",
       "      <td>6155.0</td>\n",
       "      <td>6155.0</td>\n",
       "      <td>6153.0</td>\n",
       "      <td>6155.0</td>\n",
       "      <td>31.0</td>\n",
       "    </tr>\n",
       "    <tr>\n",
       "      <th>2021-10-15 17:11:00</th>\n",
       "      <td>6155.0</td>\n",
       "      <td>6155.0</td>\n",
       "      <td>6153.0</td>\n",
       "      <td>6154.0</td>\n",
       "      <td>41.0</td>\n",
       "    </tr>\n",
       "    <tr>\n",
       "      <th>2021-10-15 17:12:00</th>\n",
       "      <td>6154.0</td>\n",
       "      <td>6154.0</td>\n",
       "      <td>6151.0</td>\n",
       "      <td>6152.0</td>\n",
       "      <td>20.0</td>\n",
       "    </tr>\n",
       "    <tr>\n",
       "      <th>...</th>\n",
       "      <td>...</td>\n",
       "      <td>...</td>\n",
       "      <td>...</td>\n",
       "      <td>...</td>\n",
       "      <td>...</td>\n",
       "    </tr>\n",
       "    <tr>\n",
       "      <th>2021-10-15 19:15:00</th>\n",
       "      <td>6188.0</td>\n",
       "      <td>6192.0</td>\n",
       "      <td>6186.0</td>\n",
       "      <td>6191.0</td>\n",
       "      <td>72.0</td>\n",
       "    </tr>\n",
       "    <tr>\n",
       "      <th>2021-10-15 19:16:00</th>\n",
       "      <td>6191.0</td>\n",
       "      <td>6191.0</td>\n",
       "      <td>6182.0</td>\n",
       "      <td>6183.0</td>\n",
       "      <td>237.0</td>\n",
       "    </tr>\n",
       "    <tr>\n",
       "      <th>2021-10-15 19:17:00</th>\n",
       "      <td>6183.0</td>\n",
       "      <td>6183.0</td>\n",
       "      <td>6176.0</td>\n",
       "      <td>6177.0</td>\n",
       "      <td>150.0</td>\n",
       "    </tr>\n",
       "    <tr>\n",
       "      <th>2021-10-15 19:18:00</th>\n",
       "      <td>6176.0</td>\n",
       "      <td>6176.0</td>\n",
       "      <td>6169.0</td>\n",
       "      <td>6175.0</td>\n",
       "      <td>310.0</td>\n",
       "    </tr>\n",
       "    <tr>\n",
       "      <th>2021-10-15 19:19:00</th>\n",
       "      <td>6177.0</td>\n",
       "      <td>6177.0</td>\n",
       "      <td>6174.0</td>\n",
       "      <td>6177.0</td>\n",
       "      <td>77.0</td>\n",
       "    </tr>\n",
       "  </tbody>\n",
       "</table>\n",
       "<p>132 rows × 5 columns</p>\n",
       "</div>"
      ],
      "text/plain": [
       "                       open    high     low   close  volume_diff\n",
       "timecode                                                        \n",
       "2021-10-15 17:08:00  6152.0  6154.0  6152.0  6153.0          NaN\n",
       "2021-10-15 17:09:00  6153.0  6155.0  6152.0  6154.0         18.0\n",
       "2021-10-15 17:10:00  6155.0  6155.0  6153.0  6155.0         31.0\n",
       "2021-10-15 17:11:00  6155.0  6155.0  6153.0  6154.0         41.0\n",
       "2021-10-15 17:12:00  6154.0  6154.0  6151.0  6152.0         20.0\n",
       "...                     ...     ...     ...     ...          ...\n",
       "2021-10-15 19:15:00  6188.0  6192.0  6186.0  6191.0         72.0\n",
       "2021-10-15 19:16:00  6191.0  6191.0  6182.0  6183.0        237.0\n",
       "2021-10-15 19:17:00  6183.0  6183.0  6176.0  6177.0        150.0\n",
       "2021-10-15 19:18:00  6176.0  6176.0  6169.0  6175.0        310.0\n",
       "2021-10-15 19:19:00  6177.0  6177.0  6174.0  6177.0         77.0\n",
       "\n",
       "[132 rows x 5 columns]"
      ]
     },
     "execution_count": 56,
     "metadata": {},
     "output_type": "execute_result"
    }
   ],
   "source": [
    "ohlc"
   ]
  },
  {
   "cell_type": "code",
   "execution_count": 74,
   "id": "6b863d58",
   "metadata": {},
   "outputs": [
    {
     "data": {
      "text/plain": [
       "open           6131.0\n",
       "high           6137.0\n",
       "low            6127.0\n",
       "close          6137.0\n",
       "volume_diff      51.0\n",
       "Name: 2021-10-15 18:41:00, dtype: float64"
      ]
     },
     "execution_count": 74,
     "metadata": {},
     "output_type": "execute_result"
    }
   ],
   "source": [
    "ohlc.loc['2021-10-15 18:41:00']"
   ]
  }
 ],
 "metadata": {
  "kernelspec": {
   "display_name": "Python 3 (ipykernel)",
   "language": "python",
   "name": "python3"
  },
  "language_info": {
   "codemirror_mode": {
    "name": "ipython",
    "version": 3
   },
   "file_extension": ".py",
   "mimetype": "text/x-python",
   "name": "python",
   "nbconvert_exporter": "python",
   "pygments_lexer": "ipython3",
   "version": "3.8.10"
  }
 },
 "nbformat": 4,
 "nbformat_minor": 5
}